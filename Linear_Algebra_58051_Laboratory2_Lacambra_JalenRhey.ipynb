{
  "nbformat": 4,
  "nbformat_minor": 0,
  "metadata": {
    "colab": {
      "name": "Linear_Algebra_58051_Laboratory2_Lacambra_JalenRhey.ipynb",
      "provenance": [],
      "authorship_tag": "ABX9TyOh5/PPOpDoRTToUOSpNtr8",
      "include_colab_link": true
    },
    "kernelspec": {
      "name": "python3",
      "display_name": "Python 3"
    }
  },
  "cells": [
    {
      "cell_type": "markdown",
      "metadata": {
        "id": "view-in-github",
        "colab_type": "text"
      },
      "source": [
        "<a href=\"https://colab.research.google.com/github/Jalen18/Linear_Algebra_58051_Laboratory2_Lacambra_JalenRhey/blob/main/Linear_Algebra_58051_Laboratory2_Lacambra_JalenRhey.ipynb\" target=\"_parent\"><img src=\"https://colab.research.google.com/assets/colab-badge.svg\" alt=\"Open In Colab\"/></a>"
      ]
    },
    {
      "cell_type": "markdown",
      "metadata": {
        "id": "8guZth16q8VA"
      },
      "source": [
        "# Laboratory no.2 Introduction of Vectors\r\n"
      ]
    },
    {
      "cell_type": "code",
      "metadata": {
        "id": "l54re5FKnAIa"
      },
      "source": [
        "import numpy as np\r\n",
        "\r\n",
        "A = np.array([1, 1, -1])\r\n",
        "B = np.array([-2, -3, 0])\r\n",
        "C = np.array([3, -1, 2])\r\n",
        "D = np.array([1, -3, 5])\r\n",
        "E = np.array([4, -2, 6])\r\n"
      ],
      "execution_count": 61,
      "outputs": []
    },
    {
      "cell_type": "markdown",
      "metadata": {
        "id": "JEfyh7mCrjoU"
      },
      "source": [
        "### Addition and Subtraction\r\n"
      ]
    },
    {
      "cell_type": "code",
      "metadata": {
        "colab": {
          "base_uri": "https://localhost:8080/"
        },
        "id": "JAhiFLilrr4h",
        "outputId": "4a3efa31-f9ff-4bfa-faf5-ee4763de0ea5"
      },
      "source": [
        "R = A + B + C - D - E #Eager Execution\r\n",
        "print(' VECTORS ', R)"
      ],
      "execution_count": 62,
      "outputs": [
        {
          "output_type": "stream",
          "text": [
            " VECTORS  [ -3   2 -10]\n"
          ],
          "name": "stdout"
        }
      ]
    },
    {
      "cell_type": "code",
      "metadata": {
        "colab": {
          "base_uri": "https://localhost:8080/"
        },
        "id": "olHNPbEn1CkI",
        "outputId": "92c3fdae-aede-4d7f-c193-adb858c3af88"
      },
      "source": [
        "R1 = np.add(A,B) #Functional Method\r\n",
        "R2 = np.subtract(R1,C)\r\n",
        "R3 = np.add(R2,D)\r\n",
        "R4 = np.subtract(R3,E)\r\n",
        "print (\"VECTORS\", R4)"
      ],
      "execution_count": null,
      "outputs": [
        {
          "output_type": "stream",
          "text": [
            "VECTORS [-7 -2 -4]\n"
          ],
          "name": "stdout"
        }
      ]
    },
    {
      "cell_type": "markdown",
      "metadata": {
        "id": "u-raevkd4zXI"
      },
      "source": [
        "### Multiplication and Division"
      ]
    },
    {
      "cell_type": "code",
      "metadata": {
        "colab": {
          "base_uri": "https://localhost:8080/"
        },
        "id": "tDNkn9kG437r",
        "outputId": "158aeff5-099e-48e9-b57c-03f378873a69"
      },
      "source": [
        "R = A * C / E\r\n",
        "print('VECTORS ', R)"
      ],
      "execution_count": null,
      "outputs": [
        {
          "output_type": "stream",
          "text": [
            "VECTORS  [ 0.75        0.5        -0.33333333]\n"
          ],
          "name": "stdout"
        }
      ]
    },
    {
      "cell_type": "code",
      "metadata": {
        "colab": {
          "base_uri": "https://localhost:8080/"
        },
        "id": "hcg-zy8k75bP",
        "outputId": "fd3a5bb4-eb47-4a06-cad9-8a65518f370e"
      },
      "source": [
        "R1 = np.multiply(B,D)\r\n",
        "R2 = np.divide(R1,E)\r\n",
        "print (\"VECTORS\",R2)\r\n"
      ],
      "execution_count": null,
      "outputs": [
        {
          "output_type": "stream",
          "text": [
            "VECTORS [-0.5 -4.5  0. ]\n"
          ],
          "name": "stdout"
        }
      ]
    },
    {
      "cell_type": "markdown",
      "metadata": {
        "id": "ZBbZmsLu8udG"
      },
      "source": [
        "### Squaring and Square root"
      ]
    },
    {
      "cell_type": "code",
      "metadata": {
        "colab": {
          "base_uri": "https://localhost:8080/"
        },
        "id": "0h5qk_LL80BE",
        "outputId": "074e184b-74a1-4621-90a3-a539b4f7062c"
      },
      "source": [
        "X = np.array([4,9,25])\r\n",
        "Y = np.array([2,3,5])\r\n",
        "\r\n",
        "R1 = np.sqrt(np.square(X))\r\n",
        "print (\"VECTORS\",R1)"
      ],
      "execution_count": null,
      "outputs": [
        {
          "output_type": "stream",
          "text": [
            "VECTORS [ 4.  9. 25.]\n"
          ],
          "name": "stdout"
        }
      ]
    },
    {
      "cell_type": "markdown",
      "metadata": {
        "id": "GdWNp3nj-1Vm"
      },
      "source": [
        "### Summation"
      ]
    },
    {
      "cell_type": "code",
      "metadata": {
        "colab": {
          "base_uri": "https://localhost:8080/"
        },
        "id": "b38SPFPw-6sU",
        "outputId": "a5e7d680-23e7-494d-96c0-3af766bd31da"
      },
      "source": [
        "arr = [24, -3, .1, 8, 3]   \r\n",
        "   \r\n",
        "print(\"SUM OF ARRAY : \", np.sum(arr))  \r\n",
        "   \r\n",
        "print(\"SUM OF ARRAY(uint8) : \", np.sum(arr, dtype = np.uint8))  \r\n",
        "print(\"SUM OF ARRAY(float32) : \", np.sum(arr, dtype = np.float32)) "
      ],
      "execution_count": null,
      "outputs": [
        {
          "output_type": "stream",
          "text": [
            "SUM OF ARRAY :  32.1\n",
            "SUM OF ARRAY(uint8) :  32\n",
            "SUM OF ARRAY(float32) :  32.1\n"
          ],
          "name": "stdout"
        }
      ]
    },
    {
      "cell_type": "code",
      "metadata": {
        "colab": {
          "base_uri": "https://localhost:8080/"
        },
        "id": "msUlLPTe_t1R",
        "outputId": "5eaf47cd-a6e0-4625-f0fa-93e997927e7b"
      },
      "source": [
        "# 2D array  \r\n",
        "arr = [[13, 17, 14, 33, 44],    \r\n",
        "       [15, 6, 27, 4, 19],   \r\n",
        "       [23, 2, 54, 1, 2,]]   \r\n",
        "   \r\n",
        "print(\"\\nSUM OF ARRAY : \", np.sum(arr))  \r\n",
        "   \r\n",
        "print(\"SUM OF ARRAY(uint8) : \", np.sum(arr, dtype = np.uint8))  \r\n",
        "print(\"SUM OF ARRAY(float32) : \", np.sum(arr, dtype = np.float32)) "
      ],
      "execution_count": null,
      "outputs": [
        {
          "output_type": "stream",
          "text": [
            "\n",
            "SUM OF ARRAY :  274\n",
            "SUM OF ARRAY(uint8) :  18\n",
            "SUM OF ARRAY(float32) :  274.0\n"
          ],
          "name": "stdout"
        }
      ]
    },
    {
      "cell_type": "markdown",
      "metadata": {
        "id": "1yYUqefDAsQE"
      },
      "source": [
        "### Visualizing the vectors"
      ]
    },
    {
      "cell_type": "code",
      "metadata": {
        "id": "QTlHBEzHA3Zt"
      },
      "source": [
        "import matplotlib.pyplot as plt"
      ],
      "execution_count": null,
      "outputs": []
    },
    {
      "cell_type": "code",
      "metadata": {
        "colab": {
          "base_uri": "https://localhost:8080/",
          "height": 296
        },
        "id": "9ygXYaayFsSp",
        "outputId": "db6cbc37-24c9-42c4-bae1-2b002549cf7a"
      },
      "source": [
        "a = [2.0,4.0]\r\n",
        "b = [8.0,8.0]\r\n",
        "\r\n",
        "head_length = 0.7\r\n",
        "\r\n",
        "dx = b[0] - a[0]\r\n",
        "dy = b[1] - a[1]\r\n",
        "\r\n",
        "vec_ab = [dx,dy]\r\n",
        "\r\n",
        "vec_ab_magnitude = np.sqrt(dx**2+dy**2)\r\n",
        "\r\n",
        "dx = dx / vec_ab_magnitude\r\n",
        "dy = dy / vec_ab_magnitude\r\n",
        "\r\n",
        "vec_ab_magnitude = vec_ab_magnitude - head_length\r\n",
        "\r\n",
        "ax = plt.axes()\r\n",
        "\r\n",
        "ax.arrow(a[0], a[1], vec_ab_magnitude*dx, vec_ab_magnitude*dy, head_width=0.5, head_length=0.7, fc='lightblue', ec='black')\r\n",
        "\r\n",
        "plt.scatter(a[0],a[1],color='black')\r\n",
        "plt.scatter(b[0],b[1],color='black')\r\n",
        "\r\n",
        "ax.annotate('A', (a[0]-0.4,a[1]),fontsize=14)\r\n",
        "ax.annotate('B', (b[0]+0.3,b[1]),fontsize=14)\r\n",
        "\r\n",
        "plt.grid()\r\n",
        "\r\n",
        "plt.xlim(0,10)\r\n",
        "plt.ylim(0,10)\r\n",
        "\r\n",
        "plt.title('Vizualing the vectors',fontsize=10)\r\n"
      ],
      "execution_count": null,
      "outputs": [
        {
          "output_type": "execute_result",
          "data": {
            "text/plain": [
              "Text(0.5, 1.0, 'Vizualing the vectors')"
            ]
          },
          "metadata": {
            "tags": []
          },
          "execution_count": 58
        },
        {
          "output_type": "display_data",
          "data": {
            "image/png": "[encoded data removed]",
            "text/plain": [
              "<Figure size 432x288 with 1 Axes>"
            ]
          },
          "metadata": {
            "tags": [],
            "needs_background": "light"
          }
        }
      ]
    }
  ]
}